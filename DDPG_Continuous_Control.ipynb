{
 "cells": [
  {
   "cell_type": "markdown",
   "metadata": {},
   "source": [
    "# Udacity Deep RL NanoDegree - Project 2 - Continuous Control\n",
    "---\n",
    "In this notebook, we will implement a Deep Deterministec Policy Gradient (DDPG) agent to solve the Unity ML-Agents environment about  a 2 joint robotic arm attempting to follow a moving target circling around the arm.\n",
    "\n",
    "### 1. Import the Necessary Packages"
   ]
  },
  {
   "cell_type": "code",
   "execution_count": 1,
   "metadata": {},
   "outputs": [],
   "source": [
    "from unityagents import UnityEnvironment\n",
    "import numpy as np\n",
    "import random\n",
    "import torch\n",
    "from collections import deque\n",
    "import matplotlib.pyplot as plt\n",
    "%matplotlib inline"
   ]
  },
  {
   "cell_type": "markdown",
   "metadata": {},
   "source": [
    "### 2. Instantiate the Environment and Agent\n",
    "\n",
    "Next, start the Unity environment.  **_Before running the code cell below_**, change the `file_name` parameter to match the location of the Unity environment that you downloaded.\n",
    "\n",
    "- **Mac**: `\"path/to/Reacher.app\"`\n",
    "- **Windows** (x86): `\"path/to/Reacher_Windows_x86/Reacher.exe\"`\n",
    "- **Windows** (x86_64): `\"path/to/Reacher_Windows_x86_64/Reacher.exe\"`\n",
    "- **Linux** (x86): `\"path/to/Reacher_Linux/Reacher.x86\"`\n",
    "- **Linux** (x86_64): `\"path/to/Reacher_Linux/Reacher.x86_64\"`\n",
    "- **Linux** (x86, headless): `\"path/to/Reacher_Linux_NoVis/Reacher.x86\"`\n",
    "- **Linux** (x86_64, headless): `\"path/to/Reacher_Linux_NoVis/Reacher.x86_64\"`\n",
    "\n",
    "For instance, if you are using a Mac, then you downloaded `Reacher.app`.  If this file is in the same folder as the notebook, then the line below should appear as follows:\n",
    "```\n",
    "env = UnityEnvironment(file_name=\"Reacher.app\")\n",
    "```"
   ]
  },
  {
   "cell_type": "code",
   "execution_count": 2,
   "metadata": {},
   "outputs": [
    {
     "name": "stderr",
     "output_type": "stream",
     "text": [
      "INFO:unityagents:\n",
      "'Academy' started successfully!\n",
      "Unity Academy name: Academy\n",
      "        Number of Brains: 1\n",
      "        Number of External Brains : 1\n",
      "        Lesson number : 0\n",
      "        Reset Parameters :\n",
      "\t\tgoal_size -> 5.0\n",
      "\t\tgoal_speed -> 1.0\n",
      "Unity brain name: ReacherBrain\n",
      "        Number of Visual Observations (per agent): 0\n",
      "        Vector Observation space type: continuous\n",
      "        Vector Observation space size (per agent): 33\n",
      "        Number of stacked Vector Observation: 1\n",
      "        Vector Action space type: continuous\n",
      "        Vector Action space size (per agent): 4\n",
      "        Vector Action descriptions: , , , \n"
     ]
    }
   ],
   "source": [
    "env = UnityEnvironment(file_name='./Reacher_Linux/Reacher.x86_64')"
   ]
  },
  {
   "cell_type": "markdown",
   "metadata": {},
   "source": [
    "Environments contain **_brains_** which are responsible for deciding the actions of their associated agents. Here we check for the first brain available, and set it as the default brain we will be controlling from Python."
   ]
  },
  {
   "cell_type": "code",
   "execution_count": 3,
   "metadata": {},
   "outputs": [],
   "source": [
    "# get the default brain\n",
    "brain_name = env.brain_names[0]\n",
    "brain = env.brains[brain_name]"
   ]
  },
  {
   "cell_type": "markdown",
   "metadata": {},
   "source": [
    "### 3. Examine the State and Action Spaces\n",
    "\n",
    "In this environment, a double-jointed arm can move to target locations. A reward of `+0.1` is provided for each step that the agent's hand is in the goal location. Thus, the goal of your agent is to maintain its position at the target location for as many time steps as possible.\n",
    "\n",
    "The observation space consists of `33` variables corresponding to position, rotation, velocity, and angular velocities of the arm.  Each action is a vector with four numbers, corresponding to torque applicable to two joints.  Every entry in the action vector must be a number between `-1` and `1`.\n",
    "\n",
    "Run the code cell below to print some information about the environment."
   ]
  },
  {
   "cell_type": "code",
   "execution_count": 4,
   "metadata": {},
   "outputs": [
    {
     "name": "stdout",
     "output_type": "stream",
     "text": [
      "Number of agents: 20\n",
      "Size of each action: 4\n",
      "There are 20 agents. Each observes a state with length: 33\n",
      "The state for the first agent looks like: [ 0.00000000e+00 -4.00000000e+00  0.00000000e+00  1.00000000e+00\n",
      " -0.00000000e+00 -0.00000000e+00 -4.37113883e-08  0.00000000e+00\n",
      "  0.00000000e+00  0.00000000e+00  0.00000000e+00  0.00000000e+00\n",
      "  0.00000000e+00  0.00000000e+00 -1.00000000e+01  0.00000000e+00\n",
      "  1.00000000e+00 -0.00000000e+00 -0.00000000e+00 -4.37113883e-08\n",
      "  0.00000000e+00  0.00000000e+00  0.00000000e+00  0.00000000e+00\n",
      "  0.00000000e+00  0.00000000e+00  5.75471878e+00 -1.00000000e+00\n",
      "  5.55726624e+00  0.00000000e+00  1.00000000e+00  0.00000000e+00\n",
      " -1.68164849e-01]\n",
      "\n",
      "And the full state for agent is the following shape: (20, 33)\n"
     ]
    }
   ],
   "source": [
    "# reset the environment\n",
    "env_info = env.reset(train_mode=True)[brain_name]\n",
    "\n",
    "# number of agents\n",
    "num_agents = len(env_info.agents)\n",
    "print('Number of agents:', num_agents)\n",
    "\n",
    "# size of each action\n",
    "action_size = brain.vector_action_space_size\n",
    "print('Size of each action:', action_size)\n",
    "\n",
    "# examine the state space \n",
    "states = env_info.vector_observations\n",
    "state_size = states.shape[1]\n",
    "print('There are {} agents. Each observes a state with length: {}'.format(states.shape[0], state_size))\n",
    "print('The state for the first agent looks like:', states[0])\n",
    "\n",
    "print('\\nAnd the full state for agent is the following shape: {}'.format(states.shape))"
   ]
  },
  {
   "cell_type": "markdown",
   "metadata": {},
   "source": [
    "Finally, Instantiate the agent and load the Neural Network to memory."
   ]
  },
  {
   "cell_type": "code",
   "execution_count": 5,
   "metadata": {},
   "outputs": [],
   "source": [
    "# Import the DDPG agent\n",
    "from ddpg_agent import Agent\n",
    "\n",
    "# Instantiate the Agent\n",
    "agent = Agent(state_size=33, action_size=4, num_agents=num_agents, random_seed=1)"
   ]
  },
  {
   "cell_type": "markdown",
   "metadata": {},
   "source": [
    "### 4. Take Random Actions in the Environment\n",
    "\n",
    "In the next code cell, you will learn how to use the Python API to control the agent and receive feedback from the environment.\n",
    "\n",
    "Once this cell is executed, you will watch the agent's performance, if it selects an action at random with each time step.  A window should pop up that allows you to observe the agent, as it moves through the environment."
   ]
  },
  {
   "cell_type": "code",
   "execution_count": 6,
   "metadata": {},
   "outputs": [
    {
     "name": "stdout",
     "output_type": "stream",
     "text": [
      "scores = [0.         0.51999999 0.42999999 0.         0.         0.\n",
      " 1.24999997 0.         0.72999998 0.         0.         0.\n",
      " 0.37999999 0.         0.17       0.03       0.28999999 0.\n",
      " 0.         0.        ]\n",
      "Total score (averaged over agents) this episode: 0.18999999575316906\n"
     ]
    }
   ],
   "source": [
    "## Prepare Environment\n",
    "env_info = env.reset(train_mode=False)[brain_name]     # reset the environment    \n",
    "states = env_info.vector_observations                  # get the current state (for each agent)\n",
    "scores = np.zeros(num_agents)                          # initialize the score (for each agent)\n",
    "\n",
    "## Run the Agent\n",
    "while True:\n",
    "    actions = np.random.randn(num_agents, action_size) # select an action (for each agent)\n",
    "    actions = np.clip(actions, -1, 1)                  # all actions between -1 and 1\n",
    "    env_info = env.step(actions)[brain_name]           # send all actions to tne environment\n",
    "    next_states = env_info.vector_observations         # get next state (for each agent)\n",
    "    rewards = env_info.rewards                         # get reward (for each agent)\n",
    "    dones = env_info.local_done                        # see if episode finished\n",
    "    scores += env_info.rewards                         # update the score (for each agent)\n",
    "    states = next_states                               # roll over states to next time step\n",
    "    if np.any(dones):                                  # exit loop if episode finished\n",
    "        break\n",
    "\n",
    "print(\"scores = {}\".format(scores))        \n",
    "        \n",
    "print('Total score (averaged over agents) this episode: {}'.format(np.mean(scores)))"
   ]
  },
  {
   "cell_type": "markdown",
   "metadata": {},
   "source": [
    "### 5. Train the Agent with DDPG\n",
    "\n",
    "Run the code cell below to train the agent from scratch.\n",
    "\n"
   ]
  },
  {
   "cell_type": "code",
   "execution_count": 7,
   "metadata": {},
   "outputs": [
    {
     "name": "stderr",
     "output_type": "stream",
     "text": [
      "/home/said/.anaconda3/envs/drlnd/lib/python3.6/site-packages/torch/nn/functional.py:1340: UserWarning: nn.functional.tanh is deprecated. Use torch.tanh instead.\n",
      "  warnings.warn(\"nn.functional.tanh is deprecated. Use torch.tanh instead.\")\n"
     ]
    },
    {
     "name": "stdout",
     "output_type": "stream",
     "text": [
      "Episode 1\tAverage Score: 0.18\n",
      "Episode 2\tAverage Score: 0.02\n",
      "Episode 3\tAverage Score: 0.00\n",
      "Episode 4\tAverage Score: 0.05\n",
      "Episode 5\tAverage Score: 0.10\n",
      "Episode 6\tAverage Score: 0.04\n",
      "Episode 7\tAverage Score: 0.02\n",
      "Episode 8\tAverage Score: 0.01\n",
      "Episode 9\tAverage Score: 0.03\n",
      "Episode 10\tAverage Score: 0.02\n",
      "Episode 11\tAverage Score: 0.01\n",
      "Episode 12\tAverage Score: 0.02\n",
      "Episode 13\tAverage Score: 0.02\n",
      "Episode 14\tAverage Score: 0.02\n",
      "Episode 15\tAverage Score: 0.01\n",
      "Episode 16\tAverage Score: 0.02\n",
      "Episode 17\tAverage Score: 0.01\n",
      "Episode 18\tAverage Score: 0.01\n",
      "Episode 19\tAverage Score: 0.07\n",
      "Episode 20\tAverage Score: 0.18\n",
      "Episode 21\tAverage Score: 0.16\n",
      "Episode 22\tAverage Score: 0.59\n",
      "Episode 23\tAverage Score: 0.67\n",
      "Episode 24\tAverage Score: 0.93\n",
      "Episode 25\tAverage Score: 1.01\n",
      "Episode 26\tAverage Score: 0.97\n",
      "Episode 27\tAverage Score: 1.36\n",
      "Episode 28\tAverage Score: 1.61\n",
      "Episode 29\tAverage Score: 1.62\n",
      "Episode 30\tAverage Score: 1.46\n",
      "Episode 31\tAverage Score: 1.61\n",
      "Episode 32\tAverage Score: 1.96\n",
      "Episode 33\tAverage Score: 2.04\n",
      "Episode 34\tAverage Score: 2.24\n",
      "Episode 35\tAverage Score: 2.35\n",
      "Episode 36\tAverage Score: 2.44\n",
      "Episode 37\tAverage Score: 2.92\n",
      "Episode 38\tAverage Score: 4.39\n",
      "Episode 39\tAverage Score: 4.22\n",
      "Episode 40\tAverage Score: 6.04\n",
      "Episode 41\tAverage Score: 7.71\n",
      "Episode 42\tAverage Score: 11.91\n",
      "Episode 43\tAverage Score: 16.85\n",
      "Episode 44\tAverage Score: 15.69\n",
      "Episode 45\tAverage Score: 17.47\n",
      "Episode 46\tAverage Score: 23.10\n",
      "Episode 47\tAverage Score: 24.51\n",
      "Episode 48\tAverage Score: 25.45\n",
      "Episode 49\tAverage Score: 29.25\n",
      "Episode 50\tAverage Score: 29.82\n",
      "Episode 51\tAverage Score: 31.96\n",
      "Episode 52\tAverage Score: 32.52\n",
      "Episode 53\tAverage Score: 34.75\n",
      "Episode 54\tAverage Score: 36.03\n",
      "Episode 55\tAverage Score: 36.96\n",
      "Episode 56\tAverage Score: 36.39\n",
      "Episode 57\tAverage Score: 37.16\n",
      "Episode 58\tAverage Score: 37.36\n",
      "Episode 59\tAverage Score: 37.55\n",
      "Episode 60\tAverage Score: 37.60\n",
      "Episode 61\tAverage Score: 37.97\n",
      "Episode 62\tAverage Score: 37.48\n",
      "Episode 63\tAverage Score: 37.94\n",
      "Episode 64\tAverage Score: 38.01\n",
      "Episode 65\tAverage Score: 38.07\n",
      "Episode 66\tAverage Score: 38.08\n",
      "Episode 67\tAverage Score: 38.52\n",
      "Episode 68\tAverage Score: 37.96\n",
      "Episode 69\tAverage Score: 37.59\n",
      "Episode 70\tAverage Score: 38.50\n",
      "Episode 71\tAverage Score: 38.34\n",
      "Episode 72\tAverage Score: 38.36\n",
      "Episode 73\tAverage Score: 37.79\n",
      "Episode 74\tAverage Score: 37.44\n",
      "Episode 75\tAverage Score: 37.73\n",
      "Episode 76\tAverage Score: 37.90\n",
      "Episode 77\tAverage Score: 37.72\n",
      "Episode 78\tAverage Score: 37.84\n",
      "Episode 79\tAverage Score: 38.00\n",
      "Episode 80\tAverage Score: 37.67\n",
      "Episode 81\tAverage Score: 37.76\n",
      "Episode 82\tAverage Score: 37.83\n",
      "Episode 83\tAverage Score: 36.94\n",
      "Episode 84\tAverage Score: 37.56\n",
      "Episode 85\tAverage Score: 37.35\n",
      "Episode 86\tAverage Score: 37.60\n",
      "Episode 87\tAverage Score: 37.60\n",
      "Episode 88\tAverage Score: 37.10\n",
      "Episode 89\tAverage Score: 37.61\n",
      "Episode 90\tAverage Score: 37.73\n",
      "Episode 91\tAverage Score: 37.94\n",
      "Episode 92\tAverage Score: 38.18\n",
      "Episode 93\tAverage Score: 37.83\n",
      "Episode 94\tAverage Score: 37.84\n",
      "Episode 95\tAverage Score: 37.68\n",
      "Episode 96\tAverage Score: 37.50\n",
      "Episode 97\tAverage Score: 36.61\n",
      "Episode 98\tAverage Score: 37.58\n",
      "Episode 99\tAverage Score: 37.44\n",
      "Episode 100\tAverage Score: 37.76\n",
      "Episode 101\tAverage Score: 37.65\n",
      "Episode 102\tAverage Score: 37.78\n",
      "Episode 103\tAverage Score: 36.98\n",
      "Episode 104\tAverage Score: 38.17\n",
      "Episode 105\tAverage Score: 37.14\n",
      "Episode 106\tAverage Score: 37.27\n",
      "Episode 107\tAverage Score: 37.70\n",
      "Episode 108\tAverage Score: 37.23\n",
      "Episode 109\tAverage Score: 37.42\n",
      "Episode 110\tAverage Score: 36.38\n",
      "Episode 111\tAverage Score: 37.82\n",
      "Episode 112\tAverage Score: 37.01\n",
      "Episode 113\tAverage Score: 37.30\n",
      "Episode 114\tAverage Score: 37.39\n",
      "Episode 115\tAverage Score: 37.43\n",
      "Episode 116\tAverage Score: 37.45\n",
      "Episode 117\tAverage Score: 37.81\n",
      "Episode 118\tAverage Score: 37.14\n",
      "Episode 119\tAverage Score: 37.07\n",
      "Episode 120\tAverage Score: 37.78\n",
      "Episode 121\tAverage Score: 37.63\n",
      "Episode 122\tAverage Score: 36.95\n",
      "Episode 123\tAverage Score: 38.03\n",
      "Episode 124\tAverage Score: 37.85\n",
      "\n",
      "Environment solved in 24 episodes!\tAverage Score: 30.07\n"
     ]
    },
    {
     "data": {
      "image/png": "[encoded data removed]",
      "text/plain": [
       "<Figure size 432x288 with 1 Axes>"
      ]
     },
     "metadata": {
      "needs_background": "light"
     },
     "output_type": "display_data"
    }
   ],
   "source": [
    "def ddpg(n_episodes=1000, max_t=3000, print_every=10):\n",
    "    \"\"\"Deep Deterministic Policy Gradient (DDPG)\n",
    "    \n",
    "    Params\n",
    "    ======\n",
    "        n_episodes (int): maximum number of training episodes\n",
    "        max_t (int): maximum number of timesteps per episode\n",
    "        eps_start (float): starting value of epsilon, for epsilon-greedy action selection\n",
    "        eps_end (float): minimum value of epsilon\n",
    "        eps_decay (float): multiplicative factor (per episode) for decreasing epsilon\n",
    "    \"\"\"\n",
    "    # Queue to store the last 100 mean scores\n",
    "    scores_deque = deque(maxlen=100)\n",
    "    # Full score list to return and later plot.\n",
    "    scores = []\n",
    "    \n",
    "    for i_episode in range(1, n_episodes+1):        \n",
    "        # Restart the Environment in train mode \n",
    "        env_info = env.reset(train_mode=True)[brain_name]\n",
    "        # Get the initial state\n",
    "        states = env_info.vector_observations\n",
    "        # Reset the agents\n",
    "        agent.reset()\n",
    "        # Set the score of each agent to 0\n",
    "        score = np.zeros(num_agents)\n",
    "\n",
    "        while(True):\n",
    "            # Select Action\n",
    "            actions = agent.act(states)\n",
    "            \n",
    "            # Step the Environment and gather all the information of the timestep\n",
    "            env_info = env.step(actions)[brain_name]           # send all actions to tne environment\n",
    "            next_states = env_info.vector_observations         # get next state (for each agent)\n",
    "            rewards = env_info.rewards                         # get reward (for each agent)\n",
    "            dones = env_info.local_done                        # see if episode finished\n",
    "       \n",
    "            # Run the learning process on the agent.\n",
    "            agent.step(states, actions, rewards, next_states, dones)\n",
    "            \n",
    "            # Save rewards and state\n",
    "            states = next_states                               # roll over states to next time step\n",
    "            score += rewards                                  # update the score (for each agent)\n",
    "\n",
    "            # Check if the Episode if over\n",
    "            if np.any(dones):\n",
    "                break\n",
    "            \n",
    "        # Save the mean score of the episode, both to calculate the running average\n",
    "        # and to later return the list of all the scores in the training\n",
    "        scores_deque.append(np.mean(score))\n",
    "        scores.append(np.mean(score))\n",
    "        \n",
    "        print('\\rEpisode {}\\tAverage Score: {:.2f}'.format(i_episode, scores[-1]))\n",
    "        torch.save(agent.actor_local.state_dict(), 'checkpoint_actor.pth')\n",
    "        torch.save(agent.critic_local.state_dict(), 'checkpoint_critic.pth')\n",
    "        if i_episode % print_every == 0 and i_episode > 100 == 0:\n",
    "            print('\\r [+] Episode {}\\t 100-Moving Average Score: {:.2f}'.format(i_episode, np.mean(scores_deque)))\n",
    "            \n",
    "        # Stop the code if the training already succeded    \n",
    "        if np.mean(scores_deque)>=30.0:\n",
    "            print('\\nEnvironment solved in {:d} episodes!\\tAverage Score: {:.2f}'.format(i_episode-100, np.mean(np.mean(scores_deque))))\n",
    "            torch.save(agent.actor_local.state_dict(), 'checkpoint_actor_SUCCESS.pth')\n",
    "            torch.save(agent.critic_local.state_dict(), 'checkpoint_critic_SUCCESS.pth')\n",
    "            break  \n",
    "            \n",
    "    return scores\n",
    "\n",
    "scores = ddpg()\n",
    "\n",
    "fig = plt.figure()\n",
    "ax = fig.add_subplot(111)\n",
    "plt.plot(np.arange(1, len(scores)+1), scores)\n",
    "plt.ylabel('Score')\n",
    "plt.xlabel('Episode #')\n",
    "plt.show()"
   ]
  },
  {
   "cell_type": "markdown",
   "metadata": {},
   "source": [
    "### 6. Watch a Smart Agent!\n",
    "\n",
    "In the next code cell, you will load the trained weights from file to watch a smart agent!"
   ]
  },
  {
   "cell_type": "code",
   "execution_count": 6,
   "metadata": {},
   "outputs": [
    {
     "name": "stderr",
     "output_type": "stream",
     "text": [
      "/home/said/.anaconda3/envs/drlnd/lib/python3.6/site-packages/torch/nn/functional.py:1340: UserWarning: nn.functional.tanh is deprecated. Use torch.tanh instead.\n",
      "  warnings.warn(\"nn.functional.tanh is deprecated. Use torch.tanh instead.\")\n"
     ]
    },
    {
     "name": "stdout",
     "output_type": "stream",
     "text": [
      "Total score (averaged over agents) this episode: 37.642999158613385\n"
     ]
    }
   ],
   "source": [
    "## load the weights from file\n",
    "# Weights of the Actor\n",
    "agent.actor_local.load_state_dict(torch.load('checkpoint_actor_SUCCESS.pth'))\n",
    "# Weights of the Critic\n",
    "agent.critic_local.load_state_dict(torch.load('checkpoint_critic_SUCCESS.pth'))\n",
    "\n",
    "\n",
    "## Prepare Environment\n",
    "# Restart the Environment\n",
    "env_info = env.reset(train_mode=False)[brain_name]\n",
    "# Get the initial state\n",
    "states = env_info.vector_observations\n",
    "# Reset the agents\n",
    "agent.reset()\n",
    "# Set the score of each agent to 0\n",
    "score = np.zeros(num_agents)\n",
    "     \n",
    "## Run the Agent\n",
    "while(True):\n",
    "    # Select Action\n",
    "    actions = agent.act(states)\n",
    "    # Step the Environment and gather all the information of the timestep\n",
    "    env_info = env.step(actions)[brain_name]           # send all actions to tne environment\n",
    "    next_states = env_info.vector_observations         # get next state (for each agent)\n",
    "    rewards = env_info.rewards                         # get reward (for each agent)\n",
    "    dones = env_info.local_done                        # see if episode finished\n",
    "    # Save rewards and state\n",
    "    states = next_states                               # roll over states to next time step\n",
    "    score += rewards                                  # update the score (for each agent)\n",
    "\n",
    "    # Check if the Episode if over\n",
    "    if np.any(dones):\n",
    "        break\n",
    "\n",
    "## Print the results\n",
    "print('Total score (averaged over agents) this episode: {}'.format(np.mean(score)))\n"
   ]
  },
  {
   "cell_type": "markdown",
   "metadata": {},
   "source": [
    "Finally, close the environment."
   ]
  },
  {
   "cell_type": "code",
   "execution_count": 7,
   "metadata": {},
   "outputs": [],
   "source": [
    "env.close()"
   ]
  }
 ],
 "metadata": {
  "kernelspec": {
   "display_name": "Python drlnd",
   "language": "python",
   "name": "drlnd"
  },
  "language_info": {
   "codemirror_mode": {
    "name": "ipython",
    "version": 3
   },
   "file_extension": ".py",
   "mimetype": "text/x-python",
   "name": "python",
   "nbconvert_exporter": "python",
   "pygments_lexer": "ipython3",
   "version": "3.6.10"
  }
 },
 "nbformat": 4,
 "nbformat_minor": 4
}
