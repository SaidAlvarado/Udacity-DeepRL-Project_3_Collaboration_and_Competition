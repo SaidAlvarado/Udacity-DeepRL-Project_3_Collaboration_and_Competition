{
 "cells": [
  {
   "cell_type": "markdown",
   "metadata": {},
   "source": [
    "# Udacity Deep RL NanoDegree - Project 2 - Continuous Control\n",
    "---\n",
    "In this notebook, we will implement a Deep Deterministec Policy Gradient (DDPG) agent to solve the Unity ML-Agents environment about two agents controlling rackets to bounce a ball over a net, somewhat like playing Ping-Pong.\n",
    "\n",
    "### 1. Import the Necessary Packages"
   ]
  },
  {
   "cell_type": "code",
   "execution_count": 1,
   "metadata": {},
   "outputs": [],
   "source": [
    "from unityagents import UnityEnvironment\n",
    "import numpy as np\n",
    "import random\n",
    "import torch\n",
    "from collections import deque\n",
    "import time\n",
    "import matplotlib.pyplot as plt\n",
    "%matplotlib inline"
   ]
  },
  {
   "cell_type": "markdown",
   "metadata": {},
   "source": [
    "### 2. Instantiate the Environment and Agent\n",
    "\n",
    "Next, we will start the environment!  **_Before running the code cell below_**, change the `file_name` parameter to match the location of the Unity environment that you downloaded.\n",
    "\n",
    "- **Mac**: `\"path/to/Tennis.app\"`\n",
    "- **Windows** (x86): `\"path/to/Tennis_Windows_x86/Tennis.exe\"`\n",
    "- **Windows** (x86_64): `\"path/to/Tennis_Windows_x86_64/Tennis.exe\"`\n",
    "- **Linux** (x86): `\"path/to/Tennis_Linux/Tennis.x86\"`\n",
    "- **Linux** (x86_64): `\"path/to/Tennis_Linux/Tennis.x86_64\"`\n",
    "- **Linux** (x86, headless): `\"path/to/Tennis_Linux_NoVis/Tennis.x86\"`\n",
    "- **Linux** (x86_64, headless): `\"path/to/Tennis_Linux_NoVis/Tennis.x86_64\"`\n",
    "\n",
    "For instance, if you are using a Mac, then you downloaded `Tennis.app`.  If this file is in the same folder as the notebook, then the line below should appear as follows:\n",
    "```\n",
    "env = UnityEnvironment(file_name=\"Tennis.app\")\n",
    "```"
   ]
  },
  {
   "cell_type": "code",
   "execution_count": 2,
   "metadata": {},
   "outputs": [
    {
     "name": "stderr",
     "output_type": "stream",
     "text": [
      "INFO:unityagents:\n",
      "'Academy' started successfully!\n",
      "Unity Academy name: Academy\n",
      "        Number of Brains: 1\n",
      "        Number of External Brains : 1\n",
      "        Lesson number : 0\n",
      "        Reset Parameters :\n",
      "\t\t\n",
      "Unity brain name: TennisBrain\n",
      "        Number of Visual Observations (per agent): 0\n",
      "        Vector Observation space type: continuous\n",
      "        Vector Observation space size (per agent): 8\n",
      "        Number of stacked Vector Observation: 3\n",
      "        Vector Action space type: continuous\n",
      "        Vector Action space size (per agent): 2\n",
      "        Vector Action descriptions: , \n"
     ]
    }
   ],
   "source": [
    "env = UnityEnvironment(file_name='./Tennis_Linux/Tennis.x86_64')"
   ]
  },
  {
   "cell_type": "markdown",
   "metadata": {},
   "source": [
    "Environments contain **_brains_** which are responsible for deciding the actions of their associated agents. Here we check for the first brain available, and set it as the default brain we will be controlling from Python."
   ]
  },
  {
   "cell_type": "code",
   "execution_count": 3,
   "metadata": {},
   "outputs": [],
   "source": [
    "# get the default brain\n",
    "brain_name = env.brain_names[0]\n",
    "brain = env.brains[brain_name]"
   ]
  },
  {
   "cell_type": "markdown",
   "metadata": {},
   "source": [
    "### 3. Examine the State and Action Spaces\n",
    "\n",
    "In this environment, two agents control rackets to bounce a ball over a net. If an agent hits the ball over the net, it receives a reward of **`+0.1`**.  If an agent lets a ball hit the ground or hits the ball out of bounds, it receives a reward of **`-0.01`**.  Thus, the goal of each agent is to keep the ball in play.\n",
    "\n",
    "The observation space consists of **`8`** variables corresponding to the position and velocity of the ball and racket, the environment returns 3 stacked observation spaces at each timestep, son the returned variable has dimension **`24`**. Two continuous actions are available, corresponding to movement toward (or away from) the net, and jumping. \n",
    "\n",
    "Run the code cell below to print some information about the environment."
   ]
  },
  {
   "cell_type": "code",
   "execution_count": 4,
   "metadata": {},
   "outputs": [
    {
     "name": "stdout",
     "output_type": "stream",
     "text": [
      "Number of agents: 2\n",
      "Size of each action: 2\n",
      "There are 2 agents. Each observes a state with length: 24\n",
      "The state for the first agent looks like: [ 0.          0.          0.          0.          0.          0.\n",
      "  0.          0.          0.          0.          0.          0.\n",
      "  0.          0.          0.          0.         -6.65278625 -1.5\n",
      " -0.          0.          6.83172083  6.         -0.          0.        ]\n"
     ]
    }
   ],
   "source": [
    "# reset the environment\n",
    "env_info = env.reset(train_mode=True)[brain_name]\n",
    "\n",
    "# number of agents \n",
    "num_agents = len(env_info.agents)\n",
    "print('Number of agents:', num_agents)\n",
    "\n",
    "# size of each action\n",
    "action_size = brain.vector_action_space_size\n",
    "print('Size of each action:', action_size)\n",
    "\n",
    "# examine the state space \n",
    "states = env_info.vector_observations\n",
    "state_size = states.shape[1]\n",
    "print('There are {} agents. Each observes a state with length: {}'.format(states.shape[0], state_size))\n",
    "print('The state for the first agent looks like:', states[0])"
   ]
  },
  {
   "cell_type": "markdown",
   "metadata": {},
   "source": [
    "Finally, Instantiate the agent and load the Neural Network to memory."
   ]
  },
  {
   "cell_type": "code",
   "execution_count": 5,
   "metadata": {},
   "outputs": [],
   "source": [
    "# Import the DDPG agent\n",
    "from ddpg_agent import Agent\n",
    "\n",
    "# Instantiate the Agent\n",
    "agent = Agent(state_size=24, action_size=2, random_seed=1)"
   ]
  },
  {
   "cell_type": "markdown",
   "metadata": {},
   "source": [
    "### 4. Take Random Actions in the Environment\n",
    "\n",
    "In the next code cell, you will learn how to use the Python API to control the agent and receive feedback from the environment.\n",
    "\n",
    "Once this cell is executed, you will watch the agent's performance, if it selects an action at random with each time step.  A window should pop up that allows you to observe the agent, as it moves through the environment."
   ]
  },
  {
   "cell_type": "code",
   "execution_count": 6,
   "metadata": {},
   "outputs": [],
   "source": [
    "## Select which racket to print information about. 0: Right Racket, 1: Left Racket.\n",
    "racket = 0\n",
    "# The observation space has 3 stacks of 8x1 vectors of observation. Choose which of them you want to print.\n",
    "stack = 0\n",
    "\n",
    "# Run 10 episodes and choose random actions\n",
    "for i in range(50):                                      # play game for 5 episodes\n",
    "    env_info = env.reset(train_mode=False)[brain_name]     # reset the environment    \n",
    "    states = env_info.vector_observations                  # get the current state (for each agent)\n",
    "    scores = np.zeros(num_agents)                          # initialize the score (for each agent)\n",
    "    while True:\n",
    "        actions = np.random.randn(num_agents, action_size) # select an action (for each agent)\n",
    "        actions = np.clip(actions, -1, 1)                  # all actions between -1 and 1\n",
    "        env_info = env.step(actions)[brain_name]           # send all actions to tne environment\n",
    "        next_states = env_info.vector_observations         # get next state (for each agent)\n",
    "        rewards = env_info.rewards                         # get reward (for each agent)\n",
    "        dones = env_info.local_done                        # see if episode finished\n",
    "        scores += env_info.rewards                         # update the score (for each agent)\n",
    "        states = next_states                               # roll over states to next time step\n",
    "        if np.any(dones):                                  # exit loop if episode finished\n",
    "            break\n",
    "            \n",
    "        # Print the observation space as (Racket X position, Racket Y position, Racket X velocity, Racket Y velocity, Ball X position, Ball Y position)\n",
    "        print('\\rx:{:5.3}\\ty:{:5.3}\\tvx:{:5.3}\\tvy:{:5.3}\\tbx:{:5.3}\\tby:{:5.3}               '.format(states[racket][stack*8 + 0], states[racket][stack*8 + 1], states[racket][stack*8 + 2], states[racket][stack*8 + 3], states[racket][stack*8 + 4], states[racket][stack*8 + 5]), end=\"\", flush=True)"
   ]
  },
  {
   "cell_type": "markdown",
   "metadata": {},
   "source": [
    "### 5. Train the Agent with DDPG\n",
    "\n",
    "Run the code cell below to train the agent from scratch.\n",
    "\n"
   ]
  },
  {
   "cell_type": "code",
   "execution_count": 7,
   "metadata": {},
   "outputs": [
    {
     "name": "stderr",
     "output_type": "stream",
     "text": [
      "/home/said/.anaconda3/envs/drlnd/lib/python3.6/site-packages/torch/nn/functional.py:1340: UserWarning: nn.functional.tanh is deprecated. Use torch.tanh instead.\n",
      "  warnings.warn(\"nn.functional.tanh is deprecated. Use torch.tanh instead.\")\n"
     ]
    },
    {
     "name": "stdout",
     "output_type": "stream",
     "text": [
      "Episode: 100 (0.21s)\tScore: 0.00\tMoving Average Score: 0.00       \n",
      "Episode: 200 (0.22s)\tScore: 0.00\tMoving Average Score: 0.00       \n",
      "Episode: 300 (0.22s)\tScore: 0.00\tMoving Average Score: 0.00       \n",
      "Episode: 400 (0.24s)\tScore: 0.00\tMoving Average Score: 0.01       \n",
      "Episode: 500 (0.54s)\tScore: 0.00\tMoving Average Score: 0.02       \n",
      "Episode: 600 (0.82s)\tScore: 0.10\tMoving Average Score: 0.04       \n",
      "Episode: 700 (0.47s)\tScore: 0.09\tMoving Average Score: 0.08       \n",
      "Episode: 800 (1.52s)\tScore: 0.20\tMoving Average Score: 0.15        \n",
      "Episode: 900 (0.27s)\tScore: 0.00\tMoving Average Score: 0.18        \n",
      "Episode: 954 (10.53s)\tScore: 1.69\tMoving Average Score: 0.51       \n",
      "Environment solved in 954 episodes! Max Average Score over 100 episodes: 0.51\n",
      "Episode: 1000 (5.41s)\tScore: 0.80\tMoving Average Score: 1.01       \n",
      "\n",
      "\n",
      "Training finished:\n",
      "\t[+] Total nuber of episodes:    1000\n",
      "\t[+] Best 100-average score:     1.01\n",
      "\t[+] Best individual game score: 2.70\n",
      "Task solved in 954 Episodes!\n"
     ]
    },
    {
     "data": {
      "image/png": "[encoded data removed]",
      "text/plain": [
       "<Figure size 432x288 with 1 Axes>"
      ]
     },
     "metadata": {
      "needs_background": "light"
     },
     "output_type": "display_data"
    }
   ],
   "source": [
    "def ddpg(n_episodes=1000, print_every=100):\n",
    "    \"\"\"Deep Deterministic Policy Gradient (DDPG)\n",
    "    \n",
    "    Params\n",
    "    ======\n",
    "        n_episodes  (int): maximum number of training episodes\n",
    "        print_every (int): How many episodes pass between each print.\n",
    "    \"\"\"\n",
    "    # Queue to store the last 100 max scores, the then plot a moving average.\n",
    "    scores_deque = deque(maxlen=100)\n",
    "    # Full score list to return and later plot.\n",
    "    scores = []\n",
    "    # List of the mivong avergare score over 100 episodes, to plot later.\n",
    "    moving_avg_score = []\n",
    "    # Define a finish flag for the learning task, a best score tracker, \n",
    "    finished_learning = False\n",
    "    solved_in = -1\n",
    "    \n",
    "    for i_episode in range(1, n_episodes+1):        \n",
    "        # Restart the Environment in train mode \n",
    "        env_info = env.reset(train_mode=True)[brain_name]\n",
    "        # Get the initial state\n",
    "        states = env_info.vector_observations\n",
    "        rr_state = states[0]                                    # Separate right racket state\n",
    "        lr_state = states[1]                                    # Separate Left racket state\n",
    "        # Reset the agents\n",
    "        agent.reset()\n",
    "        # Set the score of each agent to 0\n",
    "        score = np.zeros(num_agents)\n",
    "\n",
    "        # Start a timer to see how long the episode took:\n",
    "        t_start = time.time()\n",
    "            \n",
    "        while(True):\n",
    "            ## Select Actions per racket.\n",
    "            rr_action = agent.act(rr_state)                    # get the action of the left racket.   \n",
    "            lr_action = agent.act(lr_state)                    # get the action of the right racket.\n",
    "            # Join the actions into a single vector to pass to the environment\n",
    "            actions = np.vstack([rr_action, lr_action])\n",
    "            \n",
    "            # Step the Environment and gather all the information of the timestep\n",
    "            env_info = env.step(actions)[brain_name]           # send all actions to tne environment\n",
    "            \n",
    "            # Separate the state for the Right and Left Racket.\n",
    "            next_states = env_info.vector_observations         # get next state (for each agent)\n",
    "            rr_next_state = next_states[0]                     # Separate right racket state\n",
    "            lr_next_state = next_states[1]                     # Separate Left racket state\n",
    "        \n",
    "            # Separate rewards by racket \n",
    "            rewards = env_info.rewards                         # get reward (for each agent)\n",
    "            rr_reward = rewards[0]\n",
    "            lr_reward = rewards[1]\n",
    "            \n",
    "            # Separate dones by racket\n",
    "            dones = env_info.local_done                        # see if episode finished\n",
    "            rr_done = dones[0]\n",
    "            lr_done = dones[1]\n",
    "       \n",
    "            # Add the experience of each racket separate of each other\n",
    "            agent.step(rr_state, rr_action, rr_reward, rr_next_state, rr_done)\n",
    "            agent.step(lr_state, lr_action, lr_reward, lr_next_state, lr_done)\n",
    "            \n",
    "            # roll over states to next time step\n",
    "            rr_state = rr_next_state                           \n",
    "            lr_state = lr_next_state\n",
    "            \n",
    "            # update the score (for each agent)\n",
    "            score += rewards                                   \n",
    "\n",
    "            # Check if the Episode is over\n",
    "            if np.any(dones):\n",
    "                break\n",
    "         \n",
    "        # Stop the episode timer\n",
    "        episode_timer = time.time() - t_start\n",
    "        \n",
    "        # Save the max of the two scores between the two rackets.\n",
    "        scores_deque.append(np.max(score))\n",
    "        scores.append(np.max(score))\n",
    "        # Also save the current moving average score\n",
    "        moving_avg_score.append(np.mean(scores_deque))\n",
    "        \n",
    "        # Print the current status of the training\n",
    "        print('\\rEpisode: {} ({:4.2f}s)\\tScore: {:4.2f}\\tMoving Average Score: {:4.2f}       '.format(i_episode, episode_timer, scores[-1], np.mean(scores_deque)), end='')\n",
    "        torch.save(agent.actor_local.state_dict(), 'checkpoint_actor.pth')\n",
    "        torch.save(agent.critic_local.state_dict(), 'checkpoint_critic.pth')\n",
    "        if i_episode % print_every == 0:\n",
    "            print('\\rEpisode: {} ({:4.2f}s)\\tScore: {:4.2f}\\tMoving Average Score: {:4.2f}       '.format(i_episode, episode_timer, scores[-1], np.mean(scores_deque)))\n",
    "            \n",
    "        # Save the code if the training already succeded    \n",
    "        if np.mean(scores_deque)>=0.5 and finished_learning == False:\n",
    "            print('\\nEnvironment solved in {:d} episodes! Max Average Score over 100 episodes: {:.2f}'.format(i_episode, np.mean(scores_deque)))\n",
    "            torch.save(agent.actor_local.state_dict(), 'checkpoint_actor_SUCCESS.pth')\n",
    "            torch.save(agent.critic_local.state_dict(), 'checkpoint_critic_SUCCESS.pth')\n",
    "            finished_learning = True\n",
    "            # Save how many episodes it took to solve the task\n",
    "            solved_in = i_episode\n",
    "            \n",
    "        # Check if the current average is the best of all the averages, and keep updating the  \"Success weights\" the current best candidate\n",
    "        if len(moving_avg_score) > 2:\n",
    "            if moving_avg_score[-1] > np.max(moving_avg_score[:-1]) and moving_avg_score[-1] > 0.5:\n",
    "                torch.save(agent.actor_local.state_dict(), 'checkpoint_actor_SUCCESS.pth')\n",
    "                torch.save(agent.critic_local.state_dict(), 'checkpoint_critic_SUCCESS.pth')\n",
    "            \n",
    "    \n",
    "    ## Print the final results of the training:\n",
    "    print(\"\\n\\nTraining finished:\")\n",
    "    print(\"\\t[+] Total nuber of episodes:    {}\".format(n_episodes))\n",
    "    print(\"\\t[+] Best 100-average score:     {:4.2f}\".format(np.max(moving_avg_score)))\n",
    "    print(\"\\t[+] Best individual game score: {:4.2f}\".format(np.max(scores)))\n",
    "    \n",
    "    # Check if the task was actually solved\n",
    "    if solved_in != -1:\n",
    "        print(\"Task solved in {} Episodes!\".format(solved_in))\n",
    "    \n",
    "    \n",
    "    return scores, moving_avg_score\n",
    "\n",
    "\n",
    "# Run the training algorithm\n",
    "scores, moving_avg_score = ddpg()\n",
    "\n",
    "# Plot the scores and their averages.\n",
    "fig = plt.figure()\n",
    "ax = fig.add_subplot(111)\n",
    "plt.plot(np.arange(1, len(scores)+1), scores, c='xkcd:blue', label = \"Episode Score\", alpha=0.5)\n",
    "plt.plot(np.arange(1, len(scores)+1), moving_avg_score, c='xkcd:orange', label = \"Moving 100-Average\")\n",
    "\n",
    "# Set the titles of the plots and axis\n",
    "plt.title('Training progress - scores plot')\n",
    "plt.ylabel('Score')\n",
    "plt.xlabel('Episode #')\n",
    "\n",
    "# Add grid and legend\n",
    "plt.grid()\n",
    "plt.legend()\n",
    "\n",
    "# Show the plot\n",
    "plt.show()"
   ]
  },
  {
   "cell_type": "markdown",
   "metadata": {},
   "source": [
    "### 6. Watch a Smart Agent!\n",
    "\n",
    "In the next code cell, you will load the trained weights from file to watch a smart agent!"
   ]
  },
  {
   "cell_type": "code",
   "execution_count": 8,
   "metadata": {},
   "outputs": [
    {
     "name": "stderr",
     "output_type": "stream",
     "text": [
      "/home/said/.anaconda3/envs/drlnd/lib/python3.6/site-packages/torch/nn/functional.py:1340: UserWarning: nn.functional.tanh is deprecated. Use torch.tanh instead.\n",
      "  warnings.warn(\"nn.functional.tanh is deprecated. Use torch.tanh instead.\")\n"
     ]
    },
    {
     "name": "stdout",
     "output_type": "stream",
     "text": [
      "Score (Max over agents) of this episode: 1.2000000178813934\n",
      "Score (Max over agents) of this episode: 1.3000000193715096\n"
     ]
    }
   ],
   "source": [
    "## load the weights from file\n",
    "# Weights of the Actor\n",
    "agent.actor_local.load_state_dict(torch.load('checkpoint_actor_SUCCESS.pth'))\n",
    "# Weights of the Critic\n",
    "agent.critic_local.load_state_dict(torch.load('checkpoint_critic_SUCCESS.pth'))\n",
    "\n",
    "\n",
    "# Run 2 episodes one after the other.\n",
    "for i in range(2):  \n",
    "    # Restart the Environment\n",
    "    env_info = env.reset(train_mode=False)[brain_name]\n",
    "    # Get the initial state\n",
    "    states = env_info.vector_observations\n",
    "    # Reset the agents\n",
    "    agent.reset()\n",
    "    # Set the score of each agent to 0\n",
    "    score = np.zeros(num_agents)\n",
    "\n",
    "    ## Run the Agent\n",
    "    while(True):\n",
    "        # Separate the state by racket to feed it separatly to the NN\n",
    "        rr_state = states[0]                               # Separate right racket state\n",
    "        lr_state = states[1]                               # Separate Left racket state\n",
    "        ## Select Actions per racket.\n",
    "        rr_action = agent.act(rr_state, add_noise=False)   # get the action of the left racket.   \n",
    "        lr_action = agent.act(lr_state, add_noise=False)   # get the action of the right racket.\n",
    "        # Join the actions into a single vector to pass to the environment\n",
    "        actions = np.vstack([rr_action, lr_action])\n",
    "        # Step the Environment and gather all the information of the timestep\n",
    "        env_info = env.step(actions)[brain_name]           # send all actions to tne environment\n",
    "        next_states = env_info.vector_observations         # get next state (for each agent)\n",
    "        rewards = env_info.rewards                         # get reward (for each agent)\n",
    "        dones = env_info.local_done                        # see if episode finished\n",
    "        # Save rewards and state\n",
    "        states = next_states                               # roll over states to next time step\n",
    "        score += rewards                                   # update the score (for each agent)\n",
    "\n",
    "        # Check if the Episode if over\n",
    "        if np.any(dones):\n",
    "            break\n",
    "\n",
    "    ## Print the results\n",
    "    print('Score (Max over agents) of this episode: {}'.format(np.max(score)))\n"
   ]
  },
  {
   "cell_type": "markdown",
   "metadata": {},
   "source": [
    "Finally, close the environment."
   ]
  },
  {
   "cell_type": "code",
   "execution_count": 9,
   "metadata": {},
   "outputs": [],
   "source": [
    "env.close()"
   ]
  },
  {
   "cell_type": "code",
   "execution_count": null,
   "metadata": {},
   "outputs": [],
   "source": []
  }
 ],
 "metadata": {
  "kernelspec": {
   "display_name": "Python drlnd",
   "language": "python",
   "name": "drlnd"
  },
  "language_info": {
   "codemirror_mode": {
    "name": "ipython",
    "version": 3
   },
   "file_extension": ".py",
   "mimetype": "text/x-python",
   "name": "python",
   "nbconvert_exporter": "python",
   "pygments_lexer": "ipython3",
   "version": "3.6.10"
  }
 },
 "nbformat": 4,
 "nbformat_minor": 4
}
